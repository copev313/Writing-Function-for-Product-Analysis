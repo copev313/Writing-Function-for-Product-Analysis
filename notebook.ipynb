{
 "cells": [
  {
   "cell_type": "markdown",
   "source": [
    "## 1. DRY: Don't repeat yourself\r\n",
    "<p><img src=\"https://assets.datacamp.com/production/project_1234/img/survey.png\" style=\"float: center;\" alt=\"A pictogram of a blood bag with blood donation written in it\" width=\"100%\"></p>\r\n",
    "<p>Have you ever started your data analysis and ended up with repetitive code? Our colleague Brenda who works as a Product Analyst, has found herself in this situation and has asked us for some help. She's written a script to pull Net Promotor Score (NPS) data from various sources. NPS works by asking <em>How likely is it that you would recommend our product to a friend or colleague?</em> with a rating scale of 0 to 10. Brenda has set up this NPS survey in various ways, including emails and pop-ups on the mobile app and website. To compile the data from the different sources, she's written the following code:</p>\r\n",
    "<pre><code class=\"py language-py\"># Read the NPS email responses into a DataFrame\r\n",
    "email = pd.read_csv(\"datasets/2020Q4_nps_email.csv\")\r\n",
    "# Add a column to record the source\r\n",
    "email['source'] = 'email'\r\n",
    "\r\n",
    "# Repeat for NPS mobile and web responses\r\n",
    "mobile = pd.read_csv(\"datasets/2020Q4_nps_mobile.csv\")\r\n",
    "mobile['source'] = 'mobile'\r\n",
    "web = pd.read_csv(\"datasets/2020Q4_nps_web.csv\")\r\n",
    "web['source'] = 'web'\r\n",
    "\r\n",
    "# Combine the DataFrames\r\n",
    "q4_nps = pd.concat([email,mobile,web])\r\n",
    "</code></pre>\r\n",
    "<p>This results in the DataFrame <code>q4_nps</code> that looks like this:</p>\r\n",
    "<table>\r\n",
    "<thead>\r\n",
    "<tr>\r\n",
    "<th></th>\r\n",
    "<th><code>response_date</code></th>\r\n",
    "<th><code>user_id</code></th>\r\n",
    "<th><code>nps_rating</code></th>\r\n",
    "<th><code>source</code></th>\r\n",
    "</tr>\r\n",
    "</thead>\r\n",
    "<tbody>\r\n",
    "<tr>\r\n",
    "<td>0</td>\r\n",
    "<td>2020-10-29</td>\r\n",
    "<td>36742</td>\r\n",
    "<td>2</td>\r\n",
    "<td>email</td>\r\n",
    "</tr>\r\n",
    "<tr>\r\n",
    "<td>1</td>\r\n",
    "<td>2020-11-26</td>\r\n",
    "<td>31851</td>\r\n",
    "<td>10</td>\r\n",
    "<td>email</td>\r\n",
    "</tr>\r\n",
    "<tr>\r\n",
    "<td>2</td>\r\n",
    "<td>2020-10-27</td>\r\n",
    "<td>44299</td>\r\n",
    "<td>10</td>\r\n",
    "<td>email</td>\r\n",
    "</tr>\r\n",
    "<tr>\r\n",
    "<td>…</td>\r\n",
    "<td>…</td>\r\n",
    "<td>…</td>\r\n",
    "<td>…</td>\r\n",
    "<td>…</td>\r\n",
    "</tr>\r\n",
    "</tbody>\r\n",
    "</table>\r\n",
    "<p>This code works, but it violates the Don't Repeat Yourself (DRY) programming principle. Brenda repeats the same code for email, mobile, and web, except with different variable names and file names. While it's often quicker to copy and paste, it makes it easier to introduce errors. For example, if you need to edit one of those lines, you have to do it in multiple places. Enter functions! Repeated code is a sign that we need functions. Let's write a function for Brenda.</p>"
   ],
   "metadata": {}
  },
  {
   "cell_type": "code",
   "execution_count": 2,
   "source": [
    "import pandas as pd\r\n",
    "\r\n",
    "\r\n",
    "def convert_csv_to_df(csv_name, source_type):\r\n",
    "    \"\"\" Converts an NPS CSV into a DataFrame with a column for the source. \r\n",
    "\r\n",
    "    Args:\r\n",
    "        csv_name (str): The name of the NPS CSV file.\r\n",
    "        source_type (str): The source of the NPS responses.\r\n",
    "\r\n",
    "    Returns:\r\n",
    "        A DataFrame with the CSV data and a column, source.\r\n",
    "    \"\"\"   \r\n",
    "    df = pd.read_csv(csv_name)\r\n",
    "    df['source'] = source_type\r\n",
    "    return df\r\n",
    "\r\n",
    "\r\n",
    "# Test the function on the mobile data: \r\n",
    "convert_csv_to_df(\"datasets/2020Q4_nps_mobile.csv\", \"mobile\")"
   ],
   "outputs": [
    {
     "output_type": "execute_result",
     "data": {
      "text/html": [
       "<div>\n",
       "<style scoped>\n",
       "    .dataframe tbody tr th:only-of-type {\n",
       "        vertical-align: middle;\n",
       "    }\n",
       "\n",
       "    .dataframe tbody tr th {\n",
       "        vertical-align: top;\n",
       "    }\n",
       "\n",
       "    .dataframe thead th {\n",
       "        text-align: right;\n",
       "    }\n",
       "</style>\n",
       "<table border=\"1\" class=\"dataframe\">\n",
       "  <thead>\n",
       "    <tr style=\"text-align: right;\">\n",
       "      <th></th>\n",
       "      <th>response_date</th>\n",
       "      <th>user_id</th>\n",
       "      <th>nps_rating</th>\n",
       "      <th>source</th>\n",
       "    </tr>\n",
       "  </thead>\n",
       "  <tbody>\n",
       "    <tr>\n",
       "      <th>0</th>\n",
       "      <td>2020-12-29</td>\n",
       "      <td>14178</td>\n",
       "      <td>3</td>\n",
       "      <td>mobile</td>\n",
       "    </tr>\n",
       "    <tr>\n",
       "      <th>1</th>\n",
       "      <td>2020-10-29</td>\n",
       "      <td>33221</td>\n",
       "      <td>1</td>\n",
       "      <td>mobile</td>\n",
       "    </tr>\n",
       "    <tr>\n",
       "      <th>2</th>\n",
       "      <td>2020-11-01</td>\n",
       "      <td>21127</td>\n",
       "      <td>10</td>\n",
       "      <td>mobile</td>\n",
       "    </tr>\n",
       "    <tr>\n",
       "      <th>3</th>\n",
       "      <td>2020-12-07</td>\n",
       "      <td>42894</td>\n",
       "      <td>3</td>\n",
       "      <td>mobile</td>\n",
       "    </tr>\n",
       "    <tr>\n",
       "      <th>4</th>\n",
       "      <td>2020-11-26</td>\n",
       "      <td>30501</td>\n",
       "      <td>5</td>\n",
       "      <td>mobile</td>\n",
       "    </tr>\n",
       "    <tr>\n",
       "      <th>...</th>\n",
       "      <td>...</td>\n",
       "      <td>...</td>\n",
       "      <td>...</td>\n",
       "      <td>...</td>\n",
       "    </tr>\n",
       "    <tr>\n",
       "      <th>1796</th>\n",
       "      <td>2020-12-29</td>\n",
       "      <td>49529</td>\n",
       "      <td>3</td>\n",
       "      <td>mobile</td>\n",
       "    </tr>\n",
       "    <tr>\n",
       "      <th>1797</th>\n",
       "      <td>2020-12-24</td>\n",
       "      <td>23671</td>\n",
       "      <td>7</td>\n",
       "      <td>mobile</td>\n",
       "    </tr>\n",
       "    <tr>\n",
       "      <th>1798</th>\n",
       "      <td>2020-11-28</td>\n",
       "      <td>39954</td>\n",
       "      <td>7</td>\n",
       "      <td>mobile</td>\n",
       "    </tr>\n",
       "    <tr>\n",
       "      <th>1799</th>\n",
       "      <td>2020-12-19</td>\n",
       "      <td>21098</td>\n",
       "      <td>7</td>\n",
       "      <td>mobile</td>\n",
       "    </tr>\n",
       "    <tr>\n",
       "      <th>1800</th>\n",
       "      <td>2020-12-23</td>\n",
       "      <td>14919</td>\n",
       "      <td>7</td>\n",
       "      <td>mobile</td>\n",
       "    </tr>\n",
       "  </tbody>\n",
       "</table>\n",
       "<p>1801 rows × 4 columns</p>\n",
       "</div>"
      ],
      "text/plain": [
       "     response_date  user_id  nps_rating  source\n",
       "0       2020-12-29    14178           3  mobile\n",
       "1       2020-10-29    33221           1  mobile\n",
       "2       2020-11-01    21127          10  mobile\n",
       "3       2020-12-07    42894           3  mobile\n",
       "4       2020-11-26    30501           5  mobile\n",
       "...            ...      ...         ...     ...\n",
       "1796    2020-12-29    49529           3  mobile\n",
       "1797    2020-12-24    23671           7  mobile\n",
       "1798    2020-11-28    39954           7  mobile\n",
       "1799    2020-12-19    21098           7  mobile\n",
       "1800    2020-12-23    14919           7  mobile\n",
       "\n",
       "[1801 rows x 4 columns]"
      ]
     },
     "metadata": {},
     "execution_count": 2
    }
   ],
   "metadata": {
    "dc": {
     "key": "3"
    },
    "tags": [
     "sample_code"
    ]
   }
  },
  {
   "cell_type": "markdown",
   "source": [
    "---\r\n",
    "## 2. Verifying the files with the \"with\" keyword\r\n",
    "<p>Excellent, we have a function that reads and cleans Brenda's CSVs precisely the way she needs! She can call this function in the future for as many different sources as she wants. Before we combine the NPS DataFrames, we want to add a function that verifies that the files inputted are valid. Each of these NPS dataset files should have three columns: <code>response_date</code>, <code>user_id</code>, <code>nps_rating</code>. Previously, Brenda would check this manually by opening each file. </p>\r\n",
    "<p>Let's write a function that uses the <strong>context manager</strong> <code>with open()</code> so that we properly close the files we open, <a href=\"https://docs.python.org/3/tutorial/inputoutput.html#reading-and-writing-files\">even if an exception is raised</a>. If we don't use the <code>with</code> keyword with <code>open()</code> , we would need to call <code>close()</code> after we're done with the file. Even then, it's risky because an error might be raised before the <code>close()</code> functions are called. </p>\r\n",
    "<p>The function will return <code>True</code> if the file contains the right columns. Otherwise, it will return <code>False</code>. To test the function, we'll use <code>datasets/corrupted.csv</code> to simulate a corrupted invalid NPS file.</p>"
   ],
   "metadata": {
    "dc": {
     "key": "10"
    },
    "deletable": false,
    "editable": false,
    "run_control": {
     "frozen": true
    },
    "tags": [
     "context"
    ]
   }
  },
  {
   "cell_type": "code",
   "execution_count": 3,
   "source": [
    "def check_csv(csv_name):\r\n",
    "    \"\"\" Checks if a CSV has three columns: response_date, user_id, nps_rating\r\n",
    "\r\n",
    "    Args:\r\n",
    "        csv_name (str): The name of the CSV file.\r\n",
    "\r\n",
    "    Returns:\r\n",
    "        Boolean: True if the CSV is valid, False otherwise \r\n",
    "    \"\"\"\r\n",
    "    with open(csv_name) as f:\r\n",
    "        first_line = f.readline()\r\n",
    "        # Return true if the CSV has the three specified columns:\r\n",
    "        if first_line == \"response_date,user_id,nps_rating\\n\":\r\n",
    "            return True\r\n",
    "\r\n",
    "        return False\r\n",
    "\r\n",
    "\r\n",
    "# Test the function on a corrupted NPS file:\r\n",
    "print(check_csv('datasets/corrupted.csv'))"
   ],
   "outputs": [
    {
     "output_type": "stream",
     "name": "stdout",
     "text": [
      "False\n"
     ]
    }
   ],
   "metadata": {
    "dc": {
     "key": "10"
    },
    "tags": [
     "sample_code"
    ]
   }
  },
  {
   "cell_type": "markdown",
   "source": [
    "## 3. Putting it together with nested functions\n",
    "<p>Alright, we now have one function that verifies that the CSVs are valid and another that converts them into the DataFrame format needed by Brenda. What's left? Looking at the script, this is the last line we haven't covered: <code>q4_nps = pd.concat([email,mobile,web])</code>. We could use this line of code, but we'll see more code repetition if we get CSVs from other sources or time periods.</p>\n",
    "<p>To make sure our code is scalable, we're going to write a function called <code>combine_nps_csvs()</code> that takes in a dictionary. Python dictionaries have key:value pairs. In our case, the CSV's name and source type will be the key and value, respectively. That way, we can define a dictionary with as many NPS files as we have and run it through <code>combine_nps_csvs()</code>. For each file, we'll check that it's valid using <code>check_csv()</code>, and if it is, we'll use <code>convert_csv_to_df()</code> to convert it into a DataFrame. At the start of the function, we'll define an empty DataFrame called <code>combined</code> and everytime a CSV is succesfully converted, we'll concatenate it to <code>combined</code>.</p>"
   ],
   "metadata": {
    "dc": {
     "key": "17"
    },
    "deletable": false,
    "editable": false,
    "run_control": {
     "frozen": true
    },
    "tags": [
     "context"
    ]
   }
  },
  {
   "cell_type": "code",
   "execution_count": 4,
   "source": [
    "def combine_nps_csvs(csvs_dict):\r\n",
    "    # Define combine as an empty DataFrame:\r\n",
    "    combined = pd.DataFrame()\r\n",
    "\r\n",
    "    # Iterate over csvs_dict to get the name and source of the CSVs:\r\n",
    "    for name, source in csvs_dict.items():\r\n",
    "        # Check if the csv is valid:\r\n",
    "        if check_csv(name):\r\n",
    "            # Convert the CSV using convert_csv_to_df():\r\n",
    "            temp = convert_csv_to_df(name, source)\r\n",
    "            # Concatenate combined and temp:\r\n",
    "            combined = pd.concat([combined, temp])\r\n",
    "\r\n",
    "        # If the file is not valid, print a message with the CSV's name:\r\n",
    "        else:\r\n",
    "            print(name + \" is not a valid file and will not be added.\")\r\n",
    "\r\n",
    "    # Return the combined DataFrame\r\n",
    "    return combined\r\n",
    "\r\n",
    "\r\n",
    "my_files = {\r\n",
    "  \"datasets/2020Q4_nps_email.csv\": \"email\",\r\n",
    "  \"datasets/2020Q4_nps_mobile.csv\": \"mobile\",\r\n",
    "  \"datasets/2020Q4_nps_web.csv\": \"web\",\r\n",
    "  \"datasets/corrupted.csv\": \"social_media\"\r\n",
    "}\r\n",
    "\r\n",
    "# Test the function on the my_files dictionary:\r\n",
    "combine_nps_csvs(my_files)"
   ],
   "outputs": [
    {
     "output_type": "stream",
     "name": "stdout",
     "text": [
      "datasets/corrupted.csv is not a valid file and will not be added.\n"
     ]
    },
    {
     "output_type": "execute_result",
     "data": {
      "text/html": [
       "<div>\n",
       "<style scoped>\n",
       "    .dataframe tbody tr th:only-of-type {\n",
       "        vertical-align: middle;\n",
       "    }\n",
       "\n",
       "    .dataframe tbody tr th {\n",
       "        vertical-align: top;\n",
       "    }\n",
       "\n",
       "    .dataframe thead th {\n",
       "        text-align: right;\n",
       "    }\n",
       "</style>\n",
       "<table border=\"1\" class=\"dataframe\">\n",
       "  <thead>\n",
       "    <tr style=\"text-align: right;\">\n",
       "      <th></th>\n",
       "      <th>response_date</th>\n",
       "      <th>user_id</th>\n",
       "      <th>nps_rating</th>\n",
       "      <th>source</th>\n",
       "    </tr>\n",
       "  </thead>\n",
       "  <tbody>\n",
       "    <tr>\n",
       "      <th>0</th>\n",
       "      <td>2020-11-06</td>\n",
       "      <td>11037</td>\n",
       "      <td>7</td>\n",
       "      <td>email</td>\n",
       "    </tr>\n",
       "    <tr>\n",
       "      <th>1</th>\n",
       "      <td>2020-12-24</td>\n",
       "      <td>34434</td>\n",
       "      <td>9</td>\n",
       "      <td>email</td>\n",
       "    </tr>\n",
       "    <tr>\n",
       "      <th>2</th>\n",
       "      <td>2020-12-03</td>\n",
       "      <td>49547</td>\n",
       "      <td>8</td>\n",
       "      <td>email</td>\n",
       "    </tr>\n",
       "    <tr>\n",
       "      <th>3</th>\n",
       "      <td>2020-10-04</td>\n",
       "      <td>13821</td>\n",
       "      <td>7</td>\n",
       "      <td>email</td>\n",
       "    </tr>\n",
       "    <tr>\n",
       "      <th>4</th>\n",
       "      <td>2020-10-23</td>\n",
       "      <td>29407</td>\n",
       "      <td>9</td>\n",
       "      <td>email</td>\n",
       "    </tr>\n",
       "    <tr>\n",
       "      <th>...</th>\n",
       "      <td>...</td>\n",
       "      <td>...</td>\n",
       "      <td>...</td>\n",
       "      <td>...</td>\n",
       "    </tr>\n",
       "    <tr>\n",
       "      <th>2285</th>\n",
       "      <td>2020-12-25</td>\n",
       "      <td>10656</td>\n",
       "      <td>8</td>\n",
       "      <td>web</td>\n",
       "    </tr>\n",
       "    <tr>\n",
       "      <th>2286</th>\n",
       "      <td>2020-11-07</td>\n",
       "      <td>32918</td>\n",
       "      <td>10</td>\n",
       "      <td>web</td>\n",
       "    </tr>\n",
       "    <tr>\n",
       "      <th>2287</th>\n",
       "      <td>2020-10-16</td>\n",
       "      <td>15667</td>\n",
       "      <td>10</td>\n",
       "      <td>web</td>\n",
       "    </tr>\n",
       "    <tr>\n",
       "      <th>2288</th>\n",
       "      <td>2020-11-20</td>\n",
       "      <td>47153</td>\n",
       "      <td>7</td>\n",
       "      <td>web</td>\n",
       "    </tr>\n",
       "    <tr>\n",
       "      <th>2289</th>\n",
       "      <td>2020-10-17</td>\n",
       "      <td>47071</td>\n",
       "      <td>5</td>\n",
       "      <td>web</td>\n",
       "    </tr>\n",
       "  </tbody>\n",
       "</table>\n",
       "<p>6043 rows × 4 columns</p>\n",
       "</div>"
      ],
      "text/plain": [
       "     response_date  user_id  nps_rating source\n",
       "0       2020-11-06    11037           7  email\n",
       "1       2020-12-24    34434           9  email\n",
       "2       2020-12-03    49547           8  email\n",
       "3       2020-10-04    13821           7  email\n",
       "4       2020-10-23    29407           9  email\n",
       "...            ...      ...         ...    ...\n",
       "2285    2020-12-25    10656           8    web\n",
       "2286    2020-11-07    32918          10    web\n",
       "2287    2020-10-16    15667          10    web\n",
       "2288    2020-11-20    47153           7    web\n",
       "2289    2020-10-17    47071           5    web\n",
       "\n",
       "[6043 rows x 4 columns]"
      ]
     },
     "metadata": {},
     "execution_count": 4
    }
   ],
   "metadata": {
    "dc": {
     "key": "17"
    },
    "tags": [
     "sample_code"
    ]
   }
  },
  {
   "cell_type": "markdown",
   "source": [
    "---\r\n",
    "## 4. Detractors, Passives, and Promoters\r\n",
    "<p>We've summarized our colleague's script into one function: <code>combine_nps_csvs()</code>! Let's move on to analyzing the NPS data, such as actually calculating NPS. As a reminder, NPS works by asking <em>How likely is it that you would recommend our product to a friend or colleague?</em> with a rating scale of 0 to 10.</p>\r\n",
    "<p>NPS ratings are categorized into three groups. Ratings between 0 to 6 are <strong>detractors</strong>, ratings between 7 to 8 are <strong>passives</strong>, and finally, ratings 9 to 10 are <strong>promoters</strong>. There's more to analyzing NPS, but remember, functions should be small in scope and should just \"do one thing\". So before we get ahead of ourselves, let's write a simple function that takes an NPS rating and categorizes it into the appropriate group.</p>"
   ],
   "metadata": {
    "dc": {
     "key": "24"
    },
    "deletable": false,
    "editable": false,
    "run_control": {
     "frozen": true
    },
    "tags": [
     "context"
    ]
   }
  },
  {
   "cell_type": "code",
   "execution_count": 5,
   "source": [
    "def categorize_nps(x):\r\n",
    "    \"\"\" \r\n",
    "    Takes a NPS rating and outputs whether it is a \"promoter\", \r\n",
    "    \"passive\", \"detractor\", or \"invalid\" rating. \"invalid\" is\r\n",
    "    returned when the rating is not between 0-10.\r\n",
    "\r\n",
    "    Args:\r\n",
    "        x: The NPS rating\r\n",
    "\r\n",
    "    Returns:\r\n",
    "        String: the NPS category or \"invalid\".\r\n",
    "    \"\"\"\r\n",
    "    if (x >= 0 and x <= 6):\r\n",
    "        return 'detractor'\r\n",
    "    elif (x >= 7 and x <= 8):\r\n",
    "        return 'passive'\r\n",
    "    elif (x >= 9 and x <= 10):\r\n",
    "        return 'promoter'\r\n",
    "\r\n",
    "    return 'invalid'\r\n",
    "\r\n",
    "\r\n",
    "# Test our function:\r\n",
    "categorize_nps(8)"
   ],
   "outputs": [
    {
     "output_type": "execute_result",
     "data": {
      "text/plain": [
       "'passive'"
      ]
     },
     "metadata": {},
     "execution_count": 5
    }
   ],
   "metadata": {
    "dc": {
     "key": "24"
    },
    "tags": [
     "sample_code"
    ]
   }
  },
  {
   "cell_type": "markdown",
   "source": [
    "## 5. Applying our function to a DataFrame\n",
    "<p>So we have a function that takes a score and outputs which NPS response group it belongs to. It would be great to have this as a column in our NPS DataFrames, similar to the <code>source</code> column we added. Since we've modularized our code with functions, all we need to do is edit our <code>convert_cvs_to_df()</code> function and nest <code>categorize_nps()</code> into it. However, the way we'll nest <code>categorize_nps()</code> will be different than previous times. The <code>pandas</code> library has a handy function called <code>apply()</code>, which lets us apply a function to each column or row of a DataFrame. </p>"
   ],
   "metadata": {
    "dc": {
     "key": "31"
    },
    "deletable": false,
    "editable": false,
    "run_control": {
     "frozen": true
    },
    "tags": [
     "context"
    ]
   }
  },
  {
   "cell_type": "code",
   "execution_count": 6,
   "source": [
    "def convert_csv_to_df(csv_name, source_type):    \r\n",
    "    \"\"\"\r\n",
    "    Convert an NPS CSV into a DataFrame with columns for the source and NPS group.\r\n",
    "\r\n",
    "    Args:\r\n",
    "        csv_name (str): The name of the NPS CSV file.\r\n",
    "        source_type (str): The source of the NPS responses.\r\n",
    "\r\n",
    "    Returns:\r\n",
    "         A DataFrame with the CSV data and columns: source and nps_group.\r\n",
    "    \"\"\"\r\n",
    "    df = pd.read_csv(csv_name)\r\n",
    "    df['source'] = source_type\r\n",
    "    # New column nps_group which applies categorize_nps to nps_rating:\r\n",
    "    df['nps_group'] = df['nps_rating'].apply(categorize_nps)\r\n",
    "    return df\r\n",
    "\r\n",
    "\r\n",
    "# Test the updated function with mobile data:\r\n",
    "convert_csv_to_df(\"datasets/2020Q4_nps_mobile.csv\", \"mobile\")"
   ],
   "outputs": [
    {
     "output_type": "execute_result",
     "data": {
      "text/html": [
       "<div>\n",
       "<style scoped>\n",
       "    .dataframe tbody tr th:only-of-type {\n",
       "        vertical-align: middle;\n",
       "    }\n",
       "\n",
       "    .dataframe tbody tr th {\n",
       "        vertical-align: top;\n",
       "    }\n",
       "\n",
       "    .dataframe thead th {\n",
       "        text-align: right;\n",
       "    }\n",
       "</style>\n",
       "<table border=\"1\" class=\"dataframe\">\n",
       "  <thead>\n",
       "    <tr style=\"text-align: right;\">\n",
       "      <th></th>\n",
       "      <th>response_date</th>\n",
       "      <th>user_id</th>\n",
       "      <th>nps_rating</th>\n",
       "      <th>source</th>\n",
       "      <th>nps_group</th>\n",
       "    </tr>\n",
       "  </thead>\n",
       "  <tbody>\n",
       "    <tr>\n",
       "      <th>0</th>\n",
       "      <td>2020-12-29</td>\n",
       "      <td>14178</td>\n",
       "      <td>3</td>\n",
       "      <td>mobile</td>\n",
       "      <td>detractor</td>\n",
       "    </tr>\n",
       "    <tr>\n",
       "      <th>1</th>\n",
       "      <td>2020-10-29</td>\n",
       "      <td>33221</td>\n",
       "      <td>1</td>\n",
       "      <td>mobile</td>\n",
       "      <td>detractor</td>\n",
       "    </tr>\n",
       "    <tr>\n",
       "      <th>2</th>\n",
       "      <td>2020-11-01</td>\n",
       "      <td>21127</td>\n",
       "      <td>10</td>\n",
       "      <td>mobile</td>\n",
       "      <td>promoter</td>\n",
       "    </tr>\n",
       "    <tr>\n",
       "      <th>3</th>\n",
       "      <td>2020-12-07</td>\n",
       "      <td>42894</td>\n",
       "      <td>3</td>\n",
       "      <td>mobile</td>\n",
       "      <td>detractor</td>\n",
       "    </tr>\n",
       "    <tr>\n",
       "      <th>4</th>\n",
       "      <td>2020-11-26</td>\n",
       "      <td>30501</td>\n",
       "      <td>5</td>\n",
       "      <td>mobile</td>\n",
       "      <td>detractor</td>\n",
       "    </tr>\n",
       "    <tr>\n",
       "      <th>...</th>\n",
       "      <td>...</td>\n",
       "      <td>...</td>\n",
       "      <td>...</td>\n",
       "      <td>...</td>\n",
       "      <td>...</td>\n",
       "    </tr>\n",
       "    <tr>\n",
       "      <th>1796</th>\n",
       "      <td>2020-12-29</td>\n",
       "      <td>49529</td>\n",
       "      <td>3</td>\n",
       "      <td>mobile</td>\n",
       "      <td>detractor</td>\n",
       "    </tr>\n",
       "    <tr>\n",
       "      <th>1797</th>\n",
       "      <td>2020-12-24</td>\n",
       "      <td>23671</td>\n",
       "      <td>7</td>\n",
       "      <td>mobile</td>\n",
       "      <td>passive</td>\n",
       "    </tr>\n",
       "    <tr>\n",
       "      <th>1798</th>\n",
       "      <td>2020-11-28</td>\n",
       "      <td>39954</td>\n",
       "      <td>7</td>\n",
       "      <td>mobile</td>\n",
       "      <td>passive</td>\n",
       "    </tr>\n",
       "    <tr>\n",
       "      <th>1799</th>\n",
       "      <td>2020-12-19</td>\n",
       "      <td>21098</td>\n",
       "      <td>7</td>\n",
       "      <td>mobile</td>\n",
       "      <td>passive</td>\n",
       "    </tr>\n",
       "    <tr>\n",
       "      <th>1800</th>\n",
       "      <td>2020-12-23</td>\n",
       "      <td>14919</td>\n",
       "      <td>7</td>\n",
       "      <td>mobile</td>\n",
       "      <td>passive</td>\n",
       "    </tr>\n",
       "  </tbody>\n",
       "</table>\n",
       "<p>1801 rows × 5 columns</p>\n",
       "</div>"
      ],
      "text/plain": [
       "     response_date  user_id  nps_rating  source  nps_group\n",
       "0       2020-12-29    14178           3  mobile  detractor\n",
       "1       2020-10-29    33221           1  mobile  detractor\n",
       "2       2020-11-01    21127          10  mobile   promoter\n",
       "3       2020-12-07    42894           3  mobile  detractor\n",
       "4       2020-11-26    30501           5  mobile  detractor\n",
       "...            ...      ...         ...     ...        ...\n",
       "1796    2020-12-29    49529           3  mobile  detractor\n",
       "1797    2020-12-24    23671           7  mobile    passive\n",
       "1798    2020-11-28    39954           7  mobile    passive\n",
       "1799    2020-12-19    21098           7  mobile    passive\n",
       "1800    2020-12-23    14919           7  mobile    passive\n",
       "\n",
       "[1801 rows x 5 columns]"
      ]
     },
     "metadata": {},
     "execution_count": 6
    }
   ],
   "metadata": {
    "dc": {
     "key": "31"
    },
    "tags": [
     "sample_code"
    ]
   }
  },
  {
   "cell_type": "markdown",
   "source": [
    "---\r\n",
    "## 6. Calculating the Net Promoter Score\r\n",
    "<p>If we hadn't broken down our code into functions earlier, we would've had to edit our code in multiple places to add a <code>nps_group</code> column, increasing the chance of introducing errors. It also helps that our functions have one responsibility keeping our code flexible and easier to edit and debug.</p>\r\n",
    "<p>Now we're in a good place to calculate the Net Promoter Score! This is calculated by subtracting the percentage of detractor ratings from the percentage of promoter ratings, in other words:</p>\r\n",
    "$$ NPS = \\frac{\\text{# of Promoter Rating - # of Detractor Ratings}}{\\text{Total # of Respondents}} * 100 $$\r\n",
    "<p>We want to calculate the NPS across all sources, so we'll use <code>combine_nps_csvs()</code> from Task 3 to consolidate the source files. As expected, that will output a DataFrame which we'll use as an input for a new function we're going to write, <code>calculate_nps()</code>. </p>"
   ],
   "metadata": {
    "dc": {
     "key": "38"
    },
    "deletable": false,
    "editable": false,
    "run_control": {
     "frozen": true
    },
    "tags": [
     "context"
    ]
   }
  },
  {
   "cell_type": "code",
   "execution_count": 7,
   "source": [
    "def calculate_nps(dataframe):\r\n",
    "    # Calculate the NPS score using the nps_group column \r\n",
    "    counts = dataframe['nps_group'].value_counts()\r\n",
    "    detract = counts['detractor']\r\n",
    "    promo = counts['promoter']\r\n",
    "    \r\n",
    "    # Return the NPS Score:\r\n",
    "    return ((promo-detract)/ counts.sum()) * 100\r\n",
    "\r\n",
    "\r\n",
    "my_files = {\r\n",
    "  \"datasets/2020Q4_nps_email.csv\": \"email\",\r\n",
    "  \"datasets/2020Q4_nps_web.csv\": \"web\",\r\n",
    "  \"datasets/2020Q4_nps_mobile.csv\": \"mobile\",\r\n",
    "}\r\n",
    "\r\n",
    "\r\n",
    "# Test the function on the my_files dictionary:\r\n",
    "q4_nps = combine_nps_csvs(my_files)\r\n",
    "calculate_nps(q4_nps)"
   ],
   "outputs": [
    {
     "output_type": "execute_result",
     "data": {
      "text/plain": [
       "9.995035578355122"
      ]
     },
     "metadata": {},
     "execution_count": 7
    }
   ],
   "metadata": {
    "dc": {
     "key": "38"
    },
    "tags": [
     "sample_code"
    ]
   }
  },
  {
   "cell_type": "markdown",
   "source": [
    "## 7. Breaking down NPS by source\n",
    "<p>Is it good to have an NPS score around 10? The worst NPS score you can get is -100 when all respondents are detractors, and the best is 100 when all respondents are promoters. Depending on the industry of your service or product, average NPS scores vary a lot. However, a negative score is a bad sign because it means you have more unhappy customers than happy customers. Typically, a score over 50 is considered excellent, and above 75 is considered best in class.</p>\n",
    "<p>Although our score is above 0, it's still on the lower end of the spectrum. The product team concludes that majorly increasing NPS across our customer base is a priority. Luckily, we have this NPS data that we can analyze more so we can find data-driven solutions. A good start would be breaking down the NPS score by the source type. For instance, if people are rating lower on the web than mobile, that's some evidence we need to improve the browser experience.</p>"
   ],
   "metadata": {
    "dc": {
     "key": "45"
    },
    "deletable": false,
    "editable": false,
    "run_control": {
     "frozen": true
    },
    "tags": [
     "context"
    ]
   }
  },
  {
   "cell_type": "code",
   "execution_count": 10,
   "source": [
    "def calculate_nps_by_source(dataframe):\r\n",
    "    # Group the DataFrame by source and apply calculate_nps():\r\n",
    "    return dataframe.groupby(['source']).apply(calculate_nps)\r\n",
    "\r\n",
    "\r\n",
    "my_files = {\r\n",
    "  \"datasets/2020Q4_nps_email.csv\": \"email\",\r\n",
    "  \"datasets/2020Q4_nps_web.csv\": \"web\",\r\n",
    "  \"datasets/2020Q4_nps_mobile.csv\": \"mobile\",\r\n",
    "}\r\n",
    "\r\n",
    "\r\n",
    "# Test the function on the my_files dictionary:\r\n",
    "q4_nps = combine_nps_csvs(my_files)\r\n",
    "calculate_nps_by_source(q4_nps)"
   ],
   "outputs": [
    {
     "output_type": "execute_result",
     "data": {
      "text/plain": [
       "source\n",
       "email     18.596311\n",
       "mobile   -14.714048\n",
       "web       22.096070\n",
       "dtype: float64"
      ]
     },
     "metadata": {},
     "execution_count": 10
    }
   ],
   "metadata": {
    "dc": {
     "key": "45"
    },
    "tags": [
     "sample_code"
    ]
   }
  }
 ],
 "metadata": {
  "kernelspec": {
   "name": "python3",
   "display_name": "Python 3.8.5 64-bit ('base': conda)"
  },
  "language_info": {
   "codemirror_mode": {
    "name": "ipython",
    "version": 3
   },
   "file_extension": ".py",
   "mimetype": "text/x-python",
   "name": "python",
   "nbconvert_exporter": "python",
   "pygments_lexer": "ipython3",
   "version": "3.8.5"
  },
  "interpreter": {
   "hash": "477af6dc7db3e07bba4a82181506cd1ea8c5d1ba778f52f96c06a72a0ad16534"
  }
 },
 "nbformat": 4,
 "nbformat_minor": 4
}